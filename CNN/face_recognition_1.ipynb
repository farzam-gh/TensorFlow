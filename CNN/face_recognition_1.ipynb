{
 "cells": [
  {
   "cell_type": "markdown",
   "metadata": {},
   "source": [
    "## Farzam\n",
    " "
   ]
  },
  {
   "cell_type": "code",
   "execution_count": 46,
   "metadata": {},
   "outputs": [],
   "source": [
    "import numpy as np\n",
    "import os\n",
    "import cv2"
   ]
  },
  {
   "cell_type": "code",
   "execution_count": 47,
   "metadata": {},
   "outputs": [],
   "source": [
    "import matplotlib.pyplot as plt\n",
    "%matplotlib inline"
   ]
  },
  {
   "cell_type": "code",
   "execution_count": 48,
   "metadata": {},
   "outputs": [],
   "source": [
    "data_dir = \"dataset\"\n",
    "categories=[\"boxer\",\"French_bulldog\",\"toy_terrier\"]"
   ]
  },
  {
   "cell_type": "code",
   "execution_count": 49,
   "metadata": {},
   "outputs": [],
   "source": [
    "training_data=[]\n",
    "image_size=100\n",
    "\n",
    "def create_trainig_data():\n",
    "    for category in categories:\n",
    "        path=os.path.join(data_dir,category)\n",
    "        class_label=categories.index(category)\n",
    "        try:\n",
    "            for img in os.listdir(path):\n",
    "                image_array=cv2.imread(os.path.join(path,img),cv2.IMREAD_GRAYSCALE)\n",
    "                new_array=cv2.resize(image_array,(image_size,image_size))                \n",
    "                training_data.append([new_array,class_label])\n",
    "        except Exception as e:\n",
    "            print(e)\n",
    "        \n",
    "create_trainig_data()   \n"
   ]
  },
  {
   "cell_type": "code",
   "execution_count": 50,
   "metadata": {},
   "outputs": [],
   "source": [
    "test_data=[]\n",
    "image_size=100\n",
    "data_dir = \"dataset/test_set\"\n",
    "categories=[\"boxer\",\"French_bulldog\",\"toy_terrier\"]\n",
    "\n",
    "def create_test_data():\n",
    "    for category in categories:\n",
    "        path=os.path.join(data_dir,category)\n",
    "        class_label=categories.index(category)\n",
    "        try:\n",
    "            for img in os.listdir(path):\n",
    "                image_array=cv2.imread(os.path.join(path,img),cv2.IMREAD_GRAYSCALE)\n",
    "                new_array=cv2.resize(image_array,(image_size,image_size))                \n",
    "                test_data.append([new_array,class_label])\n",
    "        except Exception as e:\n",
    "            print(e)\n",
    "        \n",
    "create_test_data() "
   ]
  },
  {
   "cell_type": "code",
   "execution_count": 51,
   "metadata": {},
   "outputs": [
    {
     "name": "stdout",
     "output_type": "stream",
     "text": [
      "(451, 2)\n"
     ]
    }
   ],
   "source": [
    "print(np.shape(training_data))\n"
   ]
  },
  {
   "cell_type": "code",
   "execution_count": 52,
   "metadata": {},
   "outputs": [],
   "source": [
    "import random\n",
    "random.shuffle(training_data)"
   ]
  },
  {
   "cell_type": "code",
   "execution_count": 53,
   "metadata": {},
   "outputs": [],
   "source": [
    "def one_hot_encode(vec,vals=3):\n",
    "    n=len(vec)\n",
    "    out=np.zeros((n,vals))\n",
    "    out[range(n),vec]=1\n",
    "    return out"
   ]
  },
  {
   "cell_type": "code",
   "execution_count": 54,
   "metadata": {},
   "outputs": [],
   "source": [
    "x_train=[]\n",
    "y_train=[]"
   ]
  },
  {
   "cell_type": "code",
   "execution_count": 55,
   "metadata": {},
   "outputs": [],
   "source": [
    "for feature,label in training_data:\n",
    "    x_train.append(feature)\n",
    "    y_train.append(label)\n",
    "x_train=np.array(x_train).reshape(-1,image_size,image_size,1)    "
   ]
  },
  {
   "cell_type": "code",
   "execution_count": 56,
   "metadata": {},
   "outputs": [],
   "source": [
    "x_test=[]\n",
    "y_test=[]\n",
    "\n",
    "for feature,label in test_data:\n",
    "    x_test.append(feature)\n",
    "    y_test.append(label)\n",
    "x_test=np.array(x_test).reshape(-1,image_size,image_size,1)    "
   ]
  },
  {
   "cell_type": "code",
   "execution_count": 57,
   "metadata": {},
   "outputs": [],
   "source": [
    "import pickle\n",
    "\n",
    "pickle_out=open(\"X_train.pickle\",\"wb\")\n",
    "pickle.dump(x_train,pickle_out)\n",
    "pickle_out=open(\"y_train.pickle\",\"wb\")\n",
    "pickle.dump(y_train,pickle_out)"
   ]
  },
  {
   "cell_type": "code",
   "execution_count": 58,
   "metadata": {},
   "outputs": [],
   "source": [
    "pickle_in=open(\"X_train.pickle\",\"rb\")\n",
    "x_train=pickle.load(pickle_in)"
   ]
  },
  {
   "cell_type": "code",
   "execution_count": 59,
   "metadata": {},
   "outputs": [],
   "source": [
    "y_train=one_hot_encode(y_train)"
   ]
  },
  {
   "cell_type": "code",
   "execution_count": 60,
   "metadata": {},
   "outputs": [],
   "source": [
    "y_test=one_hot_encode(y_test)"
   ]
  },
  {
   "cell_type": "code",
   "execution_count": 61,
   "metadata": {},
   "outputs": [
    {
     "name": "stdout",
     "output_type": "stream",
     "text": [
      "(451, 100, 100, 1)\n",
      "[[0. 0. 1.]\n",
      " [1. 0. 0.]\n",
      " [0. 1. 0.]\n",
      " [1. 0. 0.]\n",
      " [0. 0. 1.]\n",
      " [0. 1. 0.]\n",
      " [1. 0. 0.]\n",
      " [0. 1. 0.]]\n"
     ]
    }
   ],
   "source": [
    "print(x_train.shape)\n",
    "np.shape(y_train)\n",
    "print(y_train[0:8,:])"
   ]
  },
  {
   "cell_type": "code",
   "execution_count": 62,
   "metadata": {},
   "outputs": [
    {
     "data": {
      "text/plain": [
       "<matplotlib.image.AxesImage at 0x2490005ae80>"
      ]
     },
     "execution_count": 62,
     "metadata": {},
     "output_type": "execute_result"
    },
    {
     "data": {
      "image/png": "[encoded data removed]",
      "text/plain": [
       "<Figure size 432x288 with 1 Axes>"
      ]
     },
     "metadata": {
      "needs_background": "light"
     },
     "output_type": "display_data"
    }
   ],
   "source": [
    "plt.imshow(x_train[0,:100,:100,0])"
   ]
  },
  {
   "cell_type": "code",
   "execution_count": 63,
   "metadata": {},
   "outputs": [],
   "source": [
    "import tensorflow as tf"
   ]
  },
  {
   "cell_type": "code",
   "execution_count": 64,
   "metadata": {},
   "outputs": [],
   "source": [
    "#Placeholders\n",
    "x=tf.placeholder(tf.float32,shape=[None,image_size,image_size,1])\n",
    "y=tf.placeholder(tf.float32,shape=[None,3])\n",
    "hold_prob=tf.placeholder(tf.float32)"
   ]
  },
  {
   "cell_type": "code",
   "execution_count": 65,
   "metadata": {},
   "outputs": [],
   "source": [
    "# Heper functions\n",
    "def init_weights(shape):\n",
    "    init_random_dist=tf.truncated_normal(shape=shape,stddev=0.1)\n",
    "    return tf.Variable(init_random_dist)\n",
    "\n",
    "def init_bias(shape):\n",
    "    init_random_dist=tf.truncated_normal(shape=shape,stddev=0.1)\n",
    "    return tf.Variable(init_random_dist)\n",
    "\n",
    "def conv2d(x,w):\n",
    "    return tf.nn.conv2d(x,w,strides=[1,1,1,1],padding=\"SAME\")\n",
    "\n",
    "def max_pool_2by2(x):\n",
    "    return tf.nn.max_pool(x,ksize=[1,2,2,1],strides=[1,2,2,1],padding=\"SAME\")\n",
    "\n",
    "def convolutional_layer(x,shape):\n",
    "    w=init_weights(shape)\n",
    "    b=init_bias([shape[3]])\n",
    "    return tf.nn.relu(conv2d(x,w)+b)\n",
    "\n",
    "def normal_full_layer(input_x,shape):\n",
    "    input_size=int(input_x.get_shape()[1])\n",
    "    w=init_weights([input_size,shape])\n",
    "    b=init_bias([shape])\n",
    "    return tf.matmul(input_x,w)+b"
   ]
  },
  {
   "cell_type": "code",
   "execution_count": 66,
   "metadata": {},
   "outputs": [],
   "source": [
    "# layers\n",
    "conv_1=convolutional_layer(x,shape=[4,4,1,32])\n",
    "pooling_1=max_pool_2by2(conv_1)"
   ]
  },
  {
   "cell_type": "code",
   "execution_count": 67,
   "metadata": {},
   "outputs": [],
   "source": [
    "conv_2=convolutional_layer(pooling_1,shape=[4,4,32,64])\n",
    "pooling_2=max_pool_2by2(conv_2)"
   ]
  },
  {
   "cell_type": "code",
   "execution_count": 68,
   "metadata": {},
   "outputs": [],
   "source": [
    "conv_2_flat=tf.reshape(pooling_2,shape=[-1,25*25*64])\n",
    "full_layer_1=tf.nn.relu(normal_full_layer(conv_2_flat,1024))"
   ]
  },
  {
   "cell_type": "code",
   "execution_count": 69,
   "metadata": {},
   "outputs": [],
   "source": [
    "# Dropout\n",
    "full_dropout_1=tf.nn.dropout(full_layer_1,keep_prob=hold_prob)"
   ]
  },
  {
   "cell_type": "code",
   "execution_count": 70,
   "metadata": {},
   "outputs": [],
   "source": [
    "y_pred=normal_full_layer(full_dropout_1,3)"
   ]
  },
  {
   "cell_type": "code",
   "execution_count": 71,
   "metadata": {},
   "outputs": [],
   "source": [
    "# Loss function\n",
    "cross_entropy=tf.reduce_mean(tf.nn.softmax_cross_entropy_with_logits(labels=y,logits=y_pred))"
   ]
  },
  {
   "cell_type": "code",
   "execution_count": 83,
   "metadata": {},
   "outputs": [],
   "source": [
    "# Optimizer\n",
    "optimizer=tf.train.AdamOptimizer(learning_rate=0.0001)\n",
    "train=optimizer.minimize(cross_entropy)"
   ]
  },
  {
   "cell_type": "code",
   "execution_count": 84,
   "metadata": {},
   "outputs": [],
   "source": [
    "init=tf.global_variables_initializer()"
   ]
  },
  {
   "cell_type": "code",
   "execution_count": 87,
   "metadata": {},
   "outputs": [
    {
     "name": "stdout",
     "output_type": "stream",
     "text": [
      "Accuracy:  0.3503326\n",
      "prediction Accuracy:  0.32258064\n"
     ]
    }
   ],
   "source": [
    "# Graph operations\n",
    "steps=20\n",
    "n=x_train.shape[0]//steps\n",
    "with tf.Session() as sess:\n",
    "    sess.run(init)\n",
    "    for i in range(steps):\n",
    "        sess.run(train,feed_dict={x:x_train[steps*n:(steps+1)*n],y:y_train[steps*n:(steps+1)*n],hold_prob:0.5})\n",
    "    matches=tf.equal(tf.argmax(y_train,1),tf.argmax(y_pred,1))\n",
    "    acc=tf.reduce_mean(tf.cast(matches,tf.float32))\n",
    "    print(\"Accuracy: \",sess.run(acc,feed_dict={x:x_train,y:y_train,hold_prob:0.5}))\n",
    "    matches=tf.equal(tf.argmax(y_test,1),tf.argmax(y_pred,1))\n",
    "    acc=tf.reduce_mean(tf.cast(matches,tf.float32))\n",
    "    print(\"prediction Accuracy: \",sess.run(acc,feed_dict={x:x_test,y:y_test,hold_prob:0.5}))   \n",
    "   "
   ]
  },
  {
   "cell_type": "code",
   "execution_count": null,
   "metadata": {},
   "outputs": [],
   "source": []
  }
 ],
 "metadata": {
  "kernelspec": {
   "display_name": "Python 3",
   "language": "python",
   "name": "python3"
  },
  "language_info": {
   "codemirror_mode": {
    "name": "ipython",
    "version": 3
   },
   "file_extension": ".py",
   "mimetype": "text/x-python",
   "name": "python",
   "nbconvert_exporter": "python",
   "pygments_lexer": "ipython3",
   "version": "3.6.8"
  }
 },
 "nbformat": 4,
 "nbformat_minor": 2
}
